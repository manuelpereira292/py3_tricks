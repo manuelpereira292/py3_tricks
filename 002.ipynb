{
 "nbformat": 4,
 "nbformat_minor": 2,
 "metadata": {
  "language_info": {
   "name": "python",
   "codemirror_mode": {
    "name": "ipython",
    "version": 2
   },
   "version": "3.6.9-final"
  },
  "orig_nbformat": 2,
  "file_extension": ".py",
  "mimetype": "text/x-python",
  "name": "python",
  "npconvert_exporter": "python",
  "pygments_lexer": "ipython2",
  "version": 2,
  "kernelspec": {
   "name": "python36964bit74375dae73e04ad194e370baf968fa69",
   "display_name": "Python 3.6.9 64-bit"
  }
 },
 "cells": [
  {
   "cell_type": "code",
   "execution_count": 1,
   "metadata": {},
   "outputs": [],
   "source": [
    "# How to sort a Python dict by value\n",
    "# (== get a representation sorted by value)\n",
    "\n",
    "xs = {'a': 4, 'b': 3, 'c': 2, 'd': 1}"
   ]
  },
  {
   "cell_type": "code",
   "execution_count": 2,
   "metadata": {},
   "outputs": [],
   "source": [
    "def sort_lambda(xs):\n",
    "    return sorted(xs.items(), key=lambda x: x[1])"
   ]
  },
  {
   "cell_type": "code",
   "execution_count": 3,
   "metadata": {},
   "outputs": [],
   "source": [
    "# Or:\n",
    "\n",
    "def sort_operator(xs):\n",
    "\n",
    "    # [('d', 1), ('c', 2), ('b', 3), ('a', 4)]\n",
    "    import operator\n",
    "    return sorted(xs.items(), key=operator.itemgetter(1))"
   ]
  },
  {
   "cell_type": "code",
   "execution_count": 4,
   "metadata": {},
   "outputs": [
    {
     "output_type": "stream",
     "name": "stdout",
     "text": "dict_items([('a', 4), ('b', 3), ('c', 2), ('d', 1)])\n"
    }
   ],
   "source": [
    "# input\n",
    "print(xs.items())"
   ]
  },
  {
   "cell_type": "code",
   "execution_count": 5,
   "metadata": {},
   "outputs": [
    {
     "output_type": "stream",
     "name": "stdout",
     "text": "[('d', 1), ('c', 2), ('b', 3), ('a', 4)]\n[('d', 1), ('c', 2), ('b', 3), ('a', 4)]\n"
    }
   ],
   "source": [
    "# output\n",
    "# [('d', 1), ('c', 2), ('b', 3), ('a', 4)]\n",
    "print(sort_lambda(xs))\n",
    "print(sort_operator(xs))"
   ]
  }
 ]
}