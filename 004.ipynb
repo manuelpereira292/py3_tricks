{
 "nbformat": 4,
 "nbformat_minor": 2,
 "metadata": {
  "language_info": {
   "name": "python",
   "codemirror_mode": {
    "name": "ipython",
    "version": 2
   },
   "version": "3.6.9-final"
  },
  "orig_nbformat": 2,
  "file_extension": ".py",
  "mimetype": "text/x-python",
  "name": "python",
  "npconvert_exporter": "python",
  "pygments_lexer": "ipython2",
  "version": 2,
  "kernelspec": {
   "name": "python36964bit74375dae73e04ad194e370baf968fa69",
   "display_name": "Python 3.6.9 64-bit"
  }
 },
 "cells": [
  {
   "cell_type": "code",
   "execution_count": 1,
   "metadata": {},
   "outputs": [],
   "source": [
    "# Why Python is Great: Namedtuples\n",
    "# Using namedtuple is way shorter than\n",
    "# defining a class manually:\n",
    "\n",
    "from collections import namedtuple\n",
    "\n",
    "Car = namedtuple('Car', 'color mileage')"
   ]
  },
  {
   "cell_type": "code",
   "execution_count": 2,
   "metadata": {},
   "outputs": [
    {
     "output_type": "stream",
     "name": "stdout",
     "text": "red\n3812.4\n"
    }
   ],
   "source": [
    "# Our new \"Car\" class works as expected:\n",
    "my_car = Car('red', 3812.4)\n",
    "\n",
    "print(my_car.color)  # red\n",
    "print(my_car.mileage)  # 3812.4"
   ]
  },
  {
   "cell_type": "code",
   "execution_count": 3,
   "metadata": {},
   "outputs": [
    {
     "output_type": "execute_result",
     "data": {
      "text/plain": "Car(color='red', mileage=3812.4)"
     },
     "metadata": {},
     "execution_count": 3
    }
   ],
   "source": [
    "# We get a nice string repr for free:\n",
    "my_car\n",
    "Car(color='red' , mileage=3812.4)\n",
    "\n",
    "# Like tuples, namedtuples are immutable:\n",
    "# my_car.color = 'blue'\n",
    "# AttributeError: \"can't set attribute\""
   ]
  }
 ]
}