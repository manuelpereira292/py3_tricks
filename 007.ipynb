{
 "nbformat": 4,
 "nbformat_minor": 2,
 "metadata": {
  "language_info": {
   "name": "python",
   "codemirror_mode": {
    "name": "ipython",
    "version": 2
   },
   "version": "3.6.9-final"
  },
  "orig_nbformat": 2,
  "file_extension": ".py",
  "mimetype": "text/x-python",
  "name": "python",
  "npconvert_exporter": "python",
  "pygments_lexer": "ipython2",
  "version": 2,
  "kernelspec": {
   "name": "python36964bit74375dae73e04ad194e370baf968fa69",
   "display_name": "Python 3.6.9 64-bit"
  }
 },
 "cells": [
  {
   "cell_type": "code",
   "execution_count": 2,
   "metadata": {},
   "outputs": [],
   "source": [
    "# Why Python Is Great:\n",
    "# Function argument unpacking\n",
    "\n",
    "def myfunc(x, y, z):\n",
    "    print(x, y, z)\n",
    "\n",
    "tuple_vec = (1, 0, 1)\n",
    "dict_vec = {'x': 1, 'y': 0, 'z': 1}"
   ]
  },
  {
   "cell_type": "code",
   "execution_count": 3,
   "metadata": {},
   "outputs": [
    {
     "output_type": "stream",
     "name": "stdout",
     "text": "1 0 1\n"
    }
   ],
   "source": [
    "myfunc(*tuple_vec)"
   ]
  },
  {
   "cell_type": "code",
   "execution_count": 4,
   "metadata": {},
   "outputs": [
    {
     "output_type": "stream",
     "name": "stdout",
     "text": "1 0 1\n"
    }
   ],
   "source": [
    "myfunc(**dict_vec)"
   ]
  }
 ]
}