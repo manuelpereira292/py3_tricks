{
 "nbformat": 4,
 "nbformat_minor": 2,
 "metadata": {
  "language_info": {
   "name": "python",
   "codemirror_mode": {
    "name": "ipython",
    "version": 2
   },
   "version": "3.6.9-final"
  },
  "orig_nbformat": 2,
  "file_extension": ".py",
  "mimetype": "text/x-python",
  "name": "python",
  "npconvert_exporter": "python",
  "pygments_lexer": "ipython2",
  "version": 2,
  "kernelspec": {
   "name": "python36964bit74375dae73e04ad194e370baf968fa69",
   "display_name": "Python 3.6.9 64-bit"
  }
 },
 "cells": [
  {
   "cell_type": "code",
   "execution_count": null,
   "metadata": {},
   "outputs": [],
   "source": [
    "# Python has a HTTP server built into the\n",
    "# standard library. This is super handy for\n",
    "# previewing websites.\n",
    "\n",
    "# Python 3.x\n",
    "$ python3 -m http.server\n",
    "\n",
    "# (This will serve the current directory at\n",
    "#  http://localhost:8000)\n",
    ""
   ]
  }
 ]
}