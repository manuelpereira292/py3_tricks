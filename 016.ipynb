{
 "cells": [
  {
   "cell_type": "code",
   "execution_count": 1,
   "metadata": {},
   "outputs": [
    {
     "output_type": "execute_result",
     "data": {
      "text/plain": "[]"
     },
     "metadata": {},
     "execution_count": 1
    }
   ],
   "source": [
    "# Python's list slice syntax can be used without indices\n",
    "# for a few fun and useful things:\n",
    "\n",
    "# You can clear all elements from a list:\n",
    "lst = [1, 2, 3, 4, 5]\n",
    "del lst[:]\n",
    "lst"
   ]
  },
  {
   "cell_type": "code",
   "execution_count": 2,
   "metadata": {},
   "outputs": [
    {
     "output_type": "execute_result",
     "data": {
      "text/plain": "[7, 8, 9]"
     },
     "metadata": {},
     "execution_count": 2
    }
   ],
   "source": [
    "# You can replace all elements of a list\n",
    "# without creating a new list object:\n",
    "a = lst\n",
    "lst[:] = [7, 8, 9]\n",
    "lst"
   ]
  },
  {
   "cell_type": "code",
   "execution_count": 3,
   "metadata": {},
   "outputs": [
    {
     "output_type": "execute_result",
     "data": {
      "text/plain": "[7, 8, 9]"
     },
     "metadata": {},
     "execution_count": 3
    }
   ],
   "source": [
    "a"
   ]
  },
  {
   "cell_type": "code",
   "execution_count": 4,
   "metadata": {},
   "outputs": [
    {
     "output_type": "execute_result",
     "data": {
      "text/plain": "True"
     },
     "metadata": {},
     "execution_count": 4
    }
   ],
   "source": [
    "a is lst"
   ]
  },
  {
   "cell_type": "code",
   "execution_count": 5,
   "metadata": {},
   "outputs": [
    {
     "output_type": "execute_result",
     "data": {
      "text/plain": "[7, 8, 9]"
     },
     "metadata": {},
     "execution_count": 5
    }
   ],
   "source": [
    "# You can also create a (shallow) copy of a list:\n",
    "b = lst[:]\n",
    "b"
   ]
  },
  {
   "cell_type": "code",
   "execution_count": 6,
   "metadata": {},
   "outputs": [
    {
     "output_type": "execute_result",
     "data": {
      "text/plain": "False"
     },
     "metadata": {},
     "execution_count": 6
    }
   ],
   "source": [
    "b is lst"
   ]
  }
 ],
 "metadata": {
  "language_info": {
   "codemirror_mode": {
    "name": "ipython",
    "version": 3
   },
   "file_extension": ".py",
   "mimetype": "text/x-python",
   "name": "python",
   "nbconvert_exporter": "python",
   "pygments_lexer": "ipython3",
   "version": "3.8.2-final"
  },
  "orig_nbformat": 2,
  "kernelspec": {
   "name": "python38264bitb68cd10d1ee049cfb24fba5da657b80d",
   "display_name": "Python 3.8.2 64-bit"
  }
 },
 "nbformat": 4,
 "nbformat_minor": 2
}