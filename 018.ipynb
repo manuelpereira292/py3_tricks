{
 "cells": [
  {
   "cell_type": "code",
   "execution_count": 2,
   "metadata": {},
   "outputs": [
    {
     "output_type": "stream",
     "name": "stdout",
     "text": "('A', 'B', 'C', 'D')\n('A', 'B', 'D', 'C')\n('A', 'C', 'B', 'D')\n('A', 'C', 'D', 'B')\n('A', 'D', 'B', 'C')\n('A', 'D', 'C', 'B')\n('B', 'A', 'C', 'D')\n('B', 'A', 'D', 'C')\n('B', 'C', 'A', 'D')\n('B', 'C', 'D', 'A')\n('B', 'D', 'A', 'C')\n('B', 'D', 'C', 'A')\n('C', 'A', 'B', 'D')\n('C', 'A', 'D', 'B')\n('C', 'B', 'A', 'D')\n('C', 'B', 'D', 'A')\n('C', 'D', 'A', 'B')\n('C', 'D', 'B', 'A')\n('D', 'A', 'B', 'C')\n('D', 'A', 'C', 'B')\n('D', 'B', 'A', 'C')\n('D', 'B', 'C', 'A')\n('D', 'C', 'A', 'B')\n('D', 'C', 'B', 'A')\n"
    }
   ],
   "source": [
    "# itertools.permutations() generates permutations \n",
    "# for an iterable. Time to brute-force those passwords ;-)\n",
    "\n",
    "import itertools\n",
    "for p in itertools.permutations('ABCD'):\n",
    "    print(p)"
   ]
  },
  {
   "cell_type": "code",
   "execution_count": null,
   "metadata": {},
   "outputs": [],
   "source": []
  }
 ],
 "metadata": {
  "language_info": {
   "codemirror_mode": {
    "name": "ipython",
    "version": 3
   },
   "file_extension": ".py",
   "mimetype": "text/x-python",
   "name": "python",
   "nbconvert_exporter": "python",
   "pygments_lexer": "ipython3",
   "version": "3.8.2-final"
  },
  "orig_nbformat": 2,
  "kernelspec": {
   "name": "python38264bite34410d0ce944bf68eb165ee81b95db5",
   "display_name": "Python 3.8.2 64-bit"
  }
 },
 "nbformat": 4,
 "nbformat_minor": 2
}