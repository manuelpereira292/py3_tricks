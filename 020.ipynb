{
 "cells": [
  {
   "cell_type": "code",
   "execution_count": 1,
   "metadata": {},
   "outputs": [
    {
     "output_type": "execute_result",
     "data": {
      "text/plain": "'Hello, Dan!'"
     },
     "metadata": {},
     "execution_count": 1
    }
   ],
   "source": [
    "# You can use Python's built-in \"dis\"\n",
    "# module to disassemble functions and\n",
    "# inspect their CPython VM bytecode:\n",
    "\n",
    "def greet(name):\n",
    "    return 'Hello, ' + name + '!'\n",
    "\n",
    "greet('Dan')"
   ]
  },
  {
   "cell_type": "code",
   "execution_count": 2,
   "metadata": {},
   "outputs": [
    {
     "output_type": "stream",
     "name": "stdout",
     "text": "6           0 LOAD_CONST               1 ('Hello, ')\n              2 LOAD_FAST                0 (name)\n              4 BINARY_ADD\n              6 LOAD_CONST               2 ('!')\n              8 BINARY_ADD\n             10 RETURN_VALUE\n"
    }
   ],
   "source": [
    "import dis\n",
    "\n",
    "dis.dis(greet)"
   ]
  }
 ],
 "metadata": {
  "language_info": {
   "codemirror_mode": {
    "name": "ipython",
    "version": 3
   },
   "file_extension": ".py",
   "mimetype": "text/x-python",
   "name": "python",
   "nbconvert_exporter": "python",
   "pygments_lexer": "ipython3",
   "version": "3.8.2-final"
  },
  "orig_nbformat": 2,
  "kernelspec": {
   "name": "python38264bit5a310e397cb645b0a2409253352b6d55",
   "display_name": "Python 3.8.2 64-bit"
  }
 },
 "nbformat": 4,
 "nbformat_minor": 2
}