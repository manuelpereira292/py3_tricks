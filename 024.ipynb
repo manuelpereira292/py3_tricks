{
 "cells": [
  {
   "cell_type": "code",
   "execution_count": 2,
   "metadata": {},
   "outputs": [
    {
     "output_type": "execute_result",
     "data": {
      "text/plain": "'MyClass'"
     },
     "metadata": {},
     "execution_count": 2
    }
   ],
   "source": [
    "# You can get the name of\n",
    "# an object's class as a\n",
    "# string:\n",
    "\n",
    "class MyClass: pass\n",
    "\n",
    "obj = MyClass()\n",
    "obj.__class__.__name__"
   ]
  },
  {
   "cell_type": "code",
   "execution_count": 3,
   "metadata": {},
   "outputs": [
    {
     "output_type": "execute_result",
     "data": {
      "text/plain": "'myfunc'"
     },
     "metadata": {},
     "execution_count": 3
    }
   ],
   "source": [
    "# Functions have a\n",
    "# similar feature:\n",
    "\n",
    "def myfunc(): pass\n",
    "\n",
    "myfunc.__name__"
   ]
  },
  {
   "cell_type": "code",
   "execution_count": null,
   "metadata": {},
   "outputs": [],
   "source": []
  }
 ],
 "metadata": {
  "language_info": {
   "codemirror_mode": {
    "name": "ipython",
    "version": 3
   },
   "file_extension": ".py",
   "mimetype": "text/x-python",
   "name": "python",
   "nbconvert_exporter": "python",
   "pygments_lexer": "ipython3",
   "version": "3.8.2-final"
  },
  "orig_nbformat": 2,
  "kernelspec": {
   "name": "python38264bit5a310e397cb645b0a2409253352b6d55",
   "display_name": "Python 3.8.2 64-bit"
  }
 },
 "nbformat": 4,
 "nbformat_minor": 2
}