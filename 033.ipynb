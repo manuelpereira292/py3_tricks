{
 "metadata": {
  "language_info": {
   "codemirror_mode": {
    "name": "ipython",
    "version": 3
   },
   "file_extension": ".py",
   "mimetype": "text/x-python",
   "name": "python",
   "nbconvert_exporter": "python",
   "pygments_lexer": "ipython3",
   "version": "3.8.2-final"
  },
  "orig_nbformat": 2,
  "kernelspec": {
   "name": "python38264bit5a310e397cb645b0a2409253352b6d55",
   "display_name": "Python 3.8.2 64-bit"
  }
 },
 "nbformat": 4,
 "nbformat_minor": 2,
 "cells": [
  {
   "cell_type": "code",
   "execution_count": 3,
   "metadata": {},
   "outputs": [],
   "source": [
    "# In Python 3.4+ you can use\n",
    "# contextlib.suppress() to selectively\n",
    "# ignore specific exceptions:\n",
    "\n",
    "import contextlib\n",
    "\n",
    "with contextlib.suppress(FileNotFoundError):\n",
    "    os.remove('somefile.tmp')\n",
    "\n",
    "# This is equivalent to:\n",
    "\n",
    "try:\n",
    "    os.remove('somefile.tmp')\n",
    "except FileNotFoundError:\n",
    "    pass\n",
    "\n",
    "# contextlib.suppress docstring: \n",
    "#\n",
    "# \"Return a context manager that suppresses any \n",
    "#  of the specified exceptions if they occur in the body\n",
    "#  of a with statement and then resumes execution with \n",
    "#  the first statement following the end of \n",
    "#  the with statement.\""
   ]
  }
 ]
}