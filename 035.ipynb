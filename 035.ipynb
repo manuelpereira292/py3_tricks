{
 "metadata": {
  "language_info": {
   "codemirror_mode": {
    "name": "ipython",
    "version": 3
   },
   "file_extension": ".py",
   "mimetype": "text/x-python",
   "name": "python",
   "nbconvert_exporter": "python",
   "pygments_lexer": "ipython3",
   "version": "3.8.2-final"
  },
  "orig_nbformat": 2,
  "kernelspec": {
   "name": "python38264bit5a310e397cb645b0a2409253352b6d55",
   "display_name": "Python 3.8.2 64-bit"
  }
 },
 "nbformat": 4,
 "nbformat_minor": 2,
 "cells": [
  {
   "cell_type": "code",
   "execution_count": 1,
   "metadata": {},
   "outputs": [],
   "source": [
    "# Python 3.5+ allows passing multiple sets\n",
    "# of keyword arguments (\"kwargs\") to a\n",
    "# function within a single call, using\n",
    "# the \"**\" syntax:\n",
    "\n",
    "def process_data(a, b, c, d):\n",
    "    print(a, b, c, d)\n",
    "\n",
    "x = {'a': 1, 'b': 2}\n",
    "y = {'c': 3, 'd': 4}"
   ]
  },
  {
   "cell_type": "code",
   "execution_count": 2,
   "metadata": {
    "tags": []
   },
   "outputs": [
    {
     "output_type": "stream",
     "name": "stdout",
     "text": "1 2 3 4\n"
    }
   ],
   "source": [
    "process_data(**x, **y)"
   ]
  },
  {
   "cell_type": "code",
   "execution_count": 3,
   "metadata": {
    "tags": []
   },
   "outputs": [
    {
     "output_type": "stream",
     "name": "stdout",
     "text": "1 2 23 42\n"
    }
   ],
   "source": [
    "process_data(**x, c=23, d=42)"
   ]
  }
 ]
}